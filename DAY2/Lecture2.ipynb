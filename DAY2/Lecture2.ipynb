{
 "cells": [
  {
   "cell_type": "markdown",
   "metadata": {},
   "source": [
    "### Lecture2 P19 Example:State-Value Function for Student MRP (2) gamma=0.9"
   ]
  },
  {
   "cell_type": "code",
   "execution_count": 1,
   "metadata": {},
   "outputs": [
    {
     "data": {
      "text/html": [
       "<img src='MRP.jpg'  width=600, height=400>\n"
      ],
      "text/plain": [
       "<IPython.core.display.HTML object>"
      ]
     },
     "metadata": {},
     "output_type": "display_data"
    }
   ],
   "source": [
    "%%html\n",
    "<img src='MRP.jpg'  width=600, height=400>"
   ]
  },
  {
   "cell_type": "markdown",
   "metadata": {},
   "source": [
    "### 1. direct solution by matrix calculation"
   ]
  },
  {
   "cell_type": "code",
   "execution_count": 13,
   "metadata": {},
   "outputs": [],
   "source": [
    "import numpy as np\n",
    "#todo\n",
    "P = np.matrix([\n",
    "\n",
    "    [0,0,0,0,0,0,1]\n",
    "], dtype=np.float32)\n",
    "R = np.matrix([-2, -2, -2, 10, 1, -1,0], dtype=np.float32).T  \n",
    "I = np.eye(7)"
   ]
  },
  {
   "cell_type": "code",
   "execution_count": 2,
   "metadata": {},
   "outputs": [],
   "source": [
    "def cal_v(gamma):\n",
    "    inv = (I - gamma * P).I\n",
    "    v =  inv.dot(R)\n",
    "    return v"
   ]
  },
  {
   "cell_type": "code",
   "execution_count": 4,
   "metadata": {},
   "outputs": [
    {
     "data": {
      "text/plain": [
       "matrix([[-2.],\n",
       "        [-2.],\n",
       "        [-2.],\n",
       "        [10.],\n",
       "        [ 1.],\n",
       "        [-1.],\n",
       "        [ 0.]])"
      ]
     },
     "execution_count": 4,
     "metadata": {},
     "output_type": "execute_result"
    }
   ],
   "source": [
    "cal_v(0.9)"
   ]
  },
  {
   "cell_type": "markdown",
   "metadata": {},
   "source": [
    "    matrix([[-5.01272827],\n",
    "            [ 0.9426556 ],\n",
    "            [ 4.0870216 ],\n",
    "            [10.        ],\n",
    "            [ 1.90839272],\n",
    "            [-7.6376073 ],\n",
    "            [ 0.        ]])\n",
    "This result is roughly equal to the result shown in the picture \\[-5.0,0.9,4.1,10,1.9,-7.6,0\\] "
   ]
  },
  {
   "cell_type": "markdown",
   "metadata": {},
   "source": [
    "### 2. The iterative method "
   ]
  },
  {
   "cell_type": "code",
   "execution_count": 12,
   "metadata": {},
   "outputs": [
    {
     "name": "stdout",
     "output_type": "stream",
     "text": [
      "None\n"
     ]
    }
   ],
   "source": [
    "def iteration(gamma,V):\n",
    "    pass\n",
    "    return None\n",
    "\n",
    "    \n",
    "V=np.zeros((7,1))\n",
    "#V=np.ones((7,1)) \n",
    "for i in range(40):\n",
    "    V=iteration(0.9,V)\n",
    "print(V)"
   ]
  },
  {
   "cell_type": "markdown",
   "metadata": {},
   "source": [
    "the result of iteration is :\n",
    "\n",
    "    [[-5.01073231]\n",
    "    [ 0.9428716 ]\n",
    "    [ 4.08727958]\n",
    "    [10.        ]\n",
    "    [ 1.90900894]\n",
    "    [-7.63400914]\n",
    "    [ 0.        ]]\n"
   ]
  },
  {
   "cell_type": "markdown",
   "metadata": {},
   "source": [
    "### Lecture2 P19 Example: State-Value Function for Student MDP"
   ]
  },
  {
   "cell_type": "code",
   "execution_count": 6,
   "metadata": {},
   "outputs": [
    {
     "data": {
      "text/html": [
       "<img src='MDP.jpg'  width=600, height=400 >\n"
      ],
      "text/plain": [
       "<IPython.core.display.HTML object>"
      ]
     },
     "metadata": {},
     "output_type": "display_data"
    }
   ],
   "source": [
    "%%html\n",
    "<img src='MDP.jpg'  width=600, height=400 >"
   ]
  },
  {
   "cell_type": "markdown",
   "metadata": {},
   "source": [
    "### 1. direct solution by matrix calculation"
   ]
  },
  {
   "cell_type": "code",
   "execution_count": 10,
   "metadata": {},
   "outputs": [],
   "source": [
    "P_ssa=np.ones((5,2,5), dtype=np.float32)\n",
    "\n",
    "#%%%%%%%%%%%%%%%%%%%%%%%%%%%%%%%%%%%%%%%%%%%%%%%%%%%%%%%%%%%%%%%%#\n",
    "P_ssa[0]=[[1,0,0,0,0],[0,1,0,0,0]]\n",
    "Pi=\n",
    "\n",
    "#%%%%%%%%%%%%%%%%%%%%%%%%%%%%%%%%%%%%%%%%%%%%%%%%%%%%%%%%%%%%%%%%#\n"
   ]
  },
  {
   "cell_type": "code",
   "execution_count": 8,
   "metadata": {},
   "outputs": [],
   "source": [
    "R_sa = np.matrix([[-1,0],[-1,-2],[-2,0],[1,10],[0,0]], dtype=np.float32)#the shape of matrix R_sa is supposed to be (5，2，1) in theory\n",
    "I2=np.eye(5)"
   ]
  },
  {
   "cell_type": "code",
   "execution_count": 9,
   "metadata": {},
   "outputs": [
    {
     "name": "stdout",
     "output_type": "stream",
     "text": [
      "[[0.5 0.5 0.  0.  0. ]\n",
      " [1.  1.  1.  1.  1. ]\n",
      " [1.  1.  1.  1.  1. ]\n",
      " [1.  1.  1.  1.  1. ]\n",
      " [1.  1.  1.  1.  1. ]]\n"
     ]
    }
   ],
   "source": [
    "P_ss_pi=np.zeros((5,5))\n",
    "for i in range(len(P_ssa)):\n",
    "    P_ss_pi[i] = np.matmul(Pi[i],P_ssa[i])\n",
    "print(P_ss_pi)"
   ]
  },
  {
   "cell_type": "code",
   "execution_count": 10,
   "metadata": {},
   "outputs": [
    {
     "name": "stdout",
     "output_type": "stream",
     "text": [
      "[[-0.5]\n",
      " [-1.5]\n",
      " [-1. ]\n",
      " [ 5.5]\n",
      " [ 0. ]]\n"
     ]
    }
   ],
   "source": [
    "R_s_pi=np.zeros((5,1))\n",
    "for i in range(len(Pi)):\n",
    "    R_s_pi[i] = np.matmul(Pi[i],R_sa[i].T)\n",
    "print(R_s_pi)"
   ]
  },
  {
   "cell_type": "code",
   "execution_count": 11,
   "metadata": {},
   "outputs": [],
   "source": [
    "def cal_v_pi(gamma):\n",
    "\n",
    "    return v"
   ]
  },
  {
   "cell_type": "code",
   "execution_count": 12,
   "metadata": {},
   "outputs": [
    {
     "data": {
      "text/plain": [
       "matrix([[-2.30758211],\n",
       "        [-1.30794366],\n",
       "        [ 2.6917332 ],\n",
       "        [ 7.38420483],\n",
       "        [ 0.        ]])"
      ]
     },
     "execution_count": 12,
     "metadata": {},
     "output_type": "execute_result"
    }
   ],
   "source": [
    "cal_v_pi()#0.9999,gamma=1 singular matrix can not calc its inverse matrix"
   ]
  },
  {
   "cell_type": "markdown",
   "metadata": {},
   "source": [
    "\n",
    "    matrix([[-2.30758211],\n",
    "            [-1.30794366],\n",
    "            [ 2.6917332 ],\n",
    "            [ 7.38420483],\n",
    "            [ 0.        ]])\n",
    "\n",
    "This result is roughly equal to the result shown in the picture \\[-2.3,-1.3,2.7,7.4,0\\]"
   ]
  },
  {
   "cell_type": "markdown",
   "metadata": {},
   "source": [
    "### 2. The iterative method "
   ]
  },
  {
   "cell_type": "code",
   "execution_count": 13,
   "metadata": {},
   "outputs": [
    {
     "name": "stdout",
     "output_type": "stream",
     "text": [
      "[[-2.30774159]\n",
      " [-1.30772445]\n",
      " [ 2.69230386]\n",
      " [ 7.38460906]\n",
      " [ 0.        ]]\n"
     ]
    }
   ],
   "source": [
    "def iteration_MDP(gamma,V):\n",
    "    return \n",
    "V2=np.zeros((5,1))#np.ones((5,1)) can not get the right answer\n",
    "for i in range(50):\n",
    "    V2=iteration_MDP(1.0,V2)\n",
    "print(V2)"
   ]
  },
  {
   "cell_type": "markdown",
   "metadata": {},
   "source": [
    "the result of iteration is :\n",
    "\n",
    "    [[-2.30774159]\n",
    "     [-1.30772445]\n",
    "     [ 2.69230386]\n",
    "     [ 7.38460906]\n",
    "     [ 0.        ]]\n"
   ]
  },
  {
   "cell_type": "code",
   "execution_count": null,
   "metadata": {},
   "outputs": [],
   "source": []
  }
 ],
 "metadata": {
  "kernelspec": {
   "display_name": "Python 3",
   "language": "python",
   "name": "python3"
  },
  "language_info": {
   "codemirror_mode": {
    "name": "ipython",
    "version": 3
   },
   "file_extension": ".py",
   "mimetype": "text/x-python",
   "name": "python",
   "nbconvert_exporter": "python",
   "pygments_lexer": "ipython3",
   "version": "3.9.6"
  }
 },
 "nbformat": 4,
 "nbformat_minor": 4
}
